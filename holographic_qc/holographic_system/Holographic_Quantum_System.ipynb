{
  "nbformat": 4,
  "nbformat_minor": 0,
  "metadata": {
    "colab": {
      "provenance": []
    },
    "kernelspec": {
      "name": "python3",
      "display_name": "Python 3"
    },
    "language_info": {
      "name": "python"
    },
    "widgets": {
      "application/vnd.jupyter.widget-state+json": {
        "eed55e50e0ba4fe5a8f04f761b218469": {
          "model_module": "@jupyter-widgets/controls",
          "model_name": "FloatSliderModel",
          "model_module_version": "1.5.0",
          "state": {
            "_dom_classes": [],
            "_model_module": "@jupyter-widgets/controls",
            "_model_module_version": "1.5.0",
            "_model_name": "FloatSliderModel",
            "_view_count": null,
            "_view_module": "@jupyter-widgets/controls",
            "_view_module_version": "1.5.0",
            "_view_name": "FloatSliderView",
            "continuous_update": true,
            "description": "Scrambling Rate",
            "description_tooltip": null,
            "disabled": false,
            "layout": "IPY_MODEL_f651a117af224232bdd4ba3e6803baa9",
            "max": 2,
            "min": 0.1,
            "orientation": "horizontal",
            "readout": true,
            "readout_format": ".2f",
            "step": 0.1,
            "style": "IPY_MODEL_51ccc589ad7941599d3b9cbcdcd9ae96",
            "value": 1
          }
        },
        "f651a117af224232bdd4ba3e6803baa9": {
          "model_module": "@jupyter-widgets/base",
          "model_name": "LayoutModel",
          "model_module_version": "1.2.0",
          "state": {
            "_model_module": "@jupyter-widgets/base",
            "_model_module_version": "1.2.0",
            "_model_name": "LayoutModel",
            "_view_count": null,
            "_view_module": "@jupyter-widgets/base",
            "_view_module_version": "1.2.0",
            "_view_name": "LayoutView",
            "align_content": null,
            "align_items": null,
            "align_self": null,
            "border": null,
            "bottom": null,
            "display": null,
            "flex": null,
            "flex_flow": null,
            "grid_area": null,
            "grid_auto_columns": null,
            "grid_auto_flow": null,
            "grid_auto_rows": null,
            "grid_column": null,
            "grid_gap": null,
            "grid_row": null,
            "grid_template_areas": null,
            "grid_template_columns": null,
            "grid_template_rows": null,
            "height": null,
            "justify_content": null,
            "justify_items": null,
            "left": null,
            "margin": null,
            "max_height": null,
            "max_width": null,
            "min_height": null,
            "min_width": null,
            "object_fit": null,
            "object_position": null,
            "order": null,
            "overflow": null,
            "overflow_x": null,
            "overflow_y": null,
            "padding": null,
            "right": null,
            "top": null,
            "visibility": null,
            "width": null
          }
        },
        "51ccc589ad7941599d3b9cbcdcd9ae96": {
          "model_module": "@jupyter-widgets/controls",
          "model_name": "SliderStyleModel",
          "model_module_version": "1.5.0",
          "state": {
            "_model_module": "@jupyter-widgets/controls",
            "_model_module_version": "1.5.0",
            "_model_name": "SliderStyleModel",
            "_view_count": null,
            "_view_module": "@jupyter-widgets/base",
            "_view_module_version": "1.2.0",
            "_view_name": "StyleView",
            "description_width": "",
            "handle_color": null
          }
        },
        "3e04df36ed7747f8857d91bab0cb490e": {
          "model_module": "@jupyter-widgets/output",
          "model_name": "OutputModel",
          "model_module_version": "1.0.0",
          "state": {
            "_dom_classes": [],
            "_model_module": "@jupyter-widgets/output",
            "_model_module_version": "1.0.0",
            "_model_name": "OutputModel",
            "_view_count": null,
            "_view_module": "@jupyter-widgets/output",
            "_view_module_version": "1.0.0",
            "_view_name": "OutputView",
            "layout": "IPY_MODEL_4b47a31c029d4f4abf75a79367c5338a",
            "msg_id": "",
            "outputs": [
              {
                "output_type": "stream",
                "name": "stdout",
                "text": [
                  "Quantum Circuit:\n",
                  "\n",
                  "0: ───X──────────────Rx(0.131π)───Ry(0.859π)───@───────@───@───@───@───@─────────────────────────────────────\n",
                  "                                               │       │   │   │   │   │\n",
                  "1: ───Rx(0.237π)─────Ry(0.466π)────────────────X───@───X───┼───┼───┼───┼─────────────────────────────────────\n",
                  "                                                   │       │   │   │   │\n",
                  "2: ───Rx(0.065π)─────Ry(0.098π)────────────────────X───@───X───┼───┼───┼─────────────────────────────────────\n",
                  "                                                       │       │   │   │\n",
                  "3: ───Rx(0.862π)─────Ry(0.403π)────────────────────────X───@───X───┼───┼─────────────────────────────────────\n",
                  "                                                           │       │   │\n",
                  "4: ───Rx(0.862π)─────Ry(0.042π)────────────────────────────X───@───X───┼─────────────────────────────────────\n",
                  "                                                               │       │\n",
                  "5: ───Rx(0.173π)─────Ry(0.287π)────────────────────────────────X───────X───@───H─────────────M('m_source')───\n",
                  "                                                                           │\n",
                  "6: ───H──────────────@─────────────────────────────────────────────────────X───M('m_epr0')───────────────────\n",
                  "                     │\n",
                  "7: ──────────────────X───────────────────────────────────────────────────────────────────────────────────────\n",
                  "\n",
                  "8: ───M('q_final')───────────────────────────────────────────────────────────────────────────────────────────\n",
                  "\n",
                  "Measurement Sample:\n",
                  "\n",
                  "m_epr0=1001100101010101111001001011110110000110100010100111010010111011011101111110010110010001100011011101\n",
                  "m_source=1010001100101100001101100011001010101100010101011101000010010101001111000010100000000110100101101001\n",
                  "q_final=0000000000000000000000000000000000000000000000000000000000000000000000000000000000000000000000000000\n"
                ]
              },
              {
                "output_type": "display_data",
                "data": {
                  "text/plain": "<Figure size 600x400 with 1 Axes>",
                  "image/png": "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\n"
                },
                "metadata": {}
              }
            ]
          }
        },
        "4b47a31c029d4f4abf75a79367c5338a": {
          "model_module": "@jupyter-widgets/base",
          "model_name": "LayoutModel",
          "model_module_version": "1.2.0",
          "state": {
            "_model_module": "@jupyter-widgets/base",
            "_model_module_version": "1.2.0",
            "_model_name": "LayoutModel",
            "_view_count": null,
            "_view_module": "@jupyter-widgets/base",
            "_view_module_version": "1.2.0",
            "_view_name": "LayoutView",
            "align_content": null,
            "align_items": null,
            "align_self": null,
            "border": null,
            "bottom": null,
            "display": null,
            "flex": null,
            "flex_flow": null,
            "grid_area": null,
            "grid_auto_columns": null,
            "grid_auto_flow": null,
            "grid_auto_rows": null,
            "grid_column": null,
            "grid_gap": null,
            "grid_row": null,
            "grid_template_areas": null,
            "grid_template_columns": null,
            "grid_template_rows": null,
            "height": null,
            "justify_content": null,
            "justify_items": null,
            "left": null,
            "margin": null,
            "max_height": null,
            "max_width": null,
            "min_height": null,
            "min_width": null,
            "object_fit": null,
            "object_position": null,
            "order": null,
            "overflow": null,
            "overflow_x": null,
            "overflow_y": null,
            "padding": null,
            "right": null,
            "top": null,
            "visibility": null,
            "width": null
          }
        }
      }
    }
  },
  "cells": [
    {
      "cell_type": "markdown",
      "source": [
        "**Toward a Holographic Quantum System**\n",
        "\n",
        "You're envisioning a new class of quantum system, where:\n",
        "\n",
        "    The event horizon is an addressable, controllable I/O boundary.\n",
        "    The singularity represents the irreversible limits of computation.\n",
        "    Entanglement structure = storage topology.\n",
        "    Radiation = data output channel.\n",
        "    Holography enables error correction and partial recovery.\n",
        "\n",
        "This is not just an alternative to traditional qubits—this is more like “spacetime-native quantum information architecture”.\n",
        "\n",
        "It’s a fusion of:\n",
        "\n",
        "    Quantum computing\n",
        "    Quantum gravity\n",
        "    Information theory\n",
        "    Topology and holography"
      ],
      "metadata": {
        "id": "dTQjAGnkBSy3"
      }
    },
    {
      "cell_type": "code",
      "execution_count": 1,
      "metadata": {
        "colab": {
          "base_uri": "https://localhost:8080/"
        },
        "id": "lrH-yLIu6VaJ",
        "outputId": "b7f3aee3-157f-4212-ce33-7e5ac3b54228"
      },
      "outputs": [
        {
          "output_type": "stream",
          "name": "stdout",
          "text": [
            "Collecting cirq\n",
            "  Downloading cirq-1.4.1-py3-none-any.whl.metadata (7.4 kB)\n",
            "Collecting cirq-aqt==1.4.1 (from cirq)\n",
            "  Downloading cirq_aqt-1.4.1-py3-none-any.whl.metadata (1.6 kB)\n",
            "Collecting cirq-core==1.4.1 (from cirq)\n",
            "  Downloading cirq_core-1.4.1-py3-none-any.whl.metadata (1.8 kB)\n",
            "Collecting cirq-google==1.4.1 (from cirq)\n",
            "  Downloading cirq_google-1.4.1-py3-none-any.whl.metadata (2.0 kB)\n",
            "Collecting cirq-ionq==1.4.1 (from cirq)\n",
            "  Downloading cirq_ionq-1.4.1-py3-none-any.whl.metadata (1.6 kB)\n",
            "Collecting cirq-pasqal==1.4.1 (from cirq)\n",
            "  Downloading cirq_pasqal-1.4.1-py3-none-any.whl.metadata (1.6 kB)\n",
            "Collecting cirq-rigetti==1.4.1 (from cirq)\n",
            "  Downloading cirq_rigetti-1.4.1-py3-none-any.whl.metadata (1.7 kB)\n",
            "Collecting cirq-web==1.4.1 (from cirq)\n",
            "  Downloading cirq_web-1.4.1-py3-none-any.whl.metadata (2.6 kB)\n",
            "Requirement already satisfied: requests~=2.18 in /usr/local/lib/python3.11/dist-packages (from cirq-aqt==1.4.1->cirq) (2.32.3)\n",
            "Requirement already satisfied: attrs>=21.3.0 in /usr/local/lib/python3.11/dist-packages (from cirq-core==1.4.1->cirq) (25.3.0)\n",
            "Collecting duet>=0.2.8 (from cirq-core==1.4.1->cirq)\n",
            "  Downloading duet-0.2.9-py3-none-any.whl.metadata (2.3 kB)\n",
            "Requirement already satisfied: matplotlib~=3.0 in /usr/local/lib/python3.11/dist-packages (from cirq-core==1.4.1->cirq) (3.10.0)\n",
            "Requirement already satisfied: networkx>=2.4 in /usr/local/lib/python3.11/dist-packages (from cirq-core==1.4.1->cirq) (3.4.2)\n",
            "Collecting numpy~=1.22 (from cirq-core==1.4.1->cirq)\n",
            "  Downloading numpy-1.26.4-cp311-cp311-manylinux_2_17_x86_64.manylinux2014_x86_64.whl.metadata (61 kB)\n",
            "\u001b[2K     \u001b[90m━━━━━━━━━━━━━━━━━━━━━━━━━━━━━━━━━━━━━━━━\u001b[0m \u001b[32m61.0/61.0 kB\u001b[0m \u001b[31m3.2 MB/s\u001b[0m eta \u001b[36m0:00:00\u001b[0m\n",
            "\u001b[?25hRequirement already satisfied: pandas in /usr/local/lib/python3.11/dist-packages (from cirq-core==1.4.1->cirq) (2.2.2)\n",
            "Requirement already satisfied: sortedcontainers~=2.0 in /usr/local/lib/python3.11/dist-packages (from cirq-core==1.4.1->cirq) (2.4.0)\n",
            "Requirement already satisfied: scipy~=1.0 in /usr/local/lib/python3.11/dist-packages (from cirq-core==1.4.1->cirq) (1.14.1)\n",
            "Requirement already satisfied: sympy in /usr/local/lib/python3.11/dist-packages (from cirq-core==1.4.1->cirq) (1.13.1)\n",
            "Requirement already satisfied: typing-extensions>=4.2 in /usr/local/lib/python3.11/dist-packages (from cirq-core==1.4.1->cirq) (4.13.1)\n",
            "Requirement already satisfied: tqdm in /usr/local/lib/python3.11/dist-packages (from cirq-core==1.4.1->cirq) (4.67.1)\n",
            "Requirement already satisfied: google-api-core>=1.14.0 in /usr/local/lib/python3.11/dist-packages (from google-api-core[grpc]>=1.14.0->cirq-google==1.4.1->cirq) (2.24.2)\n",
            "Requirement already satisfied: proto-plus>=1.20.0 in /usr/local/lib/python3.11/dist-packages (from cirq-google==1.4.1->cirq) (1.26.1)\n",
            "Collecting protobuf<5.0.0,>=3.15.0 (from cirq-google==1.4.1->cirq)\n",
            "  Downloading protobuf-4.25.6-cp37-abi3-manylinux2014_x86_64.whl.metadata (541 bytes)\n",
            "Collecting pyquil<5.0.0,>=4.11.0 (from cirq-rigetti==1.4.1->cirq)\n",
            "  Downloading pyquil-4.16.1-py3-none-any.whl.metadata (10 kB)\n",
            "Requirement already satisfied: googleapis-common-protos<2.0.0,>=1.56.2 in /usr/local/lib/python3.11/dist-packages (from google-api-core>=1.14.0->google-api-core[grpc]>=1.14.0->cirq-google==1.4.1->cirq) (1.69.2)\n",
            "Requirement already satisfied: google-auth<3.0.0,>=2.14.1 in /usr/local/lib/python3.11/dist-packages (from google-api-core>=1.14.0->google-api-core[grpc]>=1.14.0->cirq-google==1.4.1->cirq) (2.38.0)\n",
            "Requirement already satisfied: grpcio<2.0dev,>=1.33.2 in /usr/local/lib/python3.11/dist-packages (from google-api-core[grpc]>=1.14.0->cirq-google==1.4.1->cirq) (1.71.0)\n",
            "Requirement already satisfied: grpcio-status<2.0.dev0,>=1.33.2 in /usr/local/lib/python3.11/dist-packages (from google-api-core[grpc]>=1.14.0->cirq-google==1.4.1->cirq) (1.71.0)\n",
            "Requirement already satisfied: contourpy>=1.0.1 in /usr/local/lib/python3.11/dist-packages (from matplotlib~=3.0->cirq-core==1.4.1->cirq) (1.3.1)\n",
            "Requirement already satisfied: cycler>=0.10 in /usr/local/lib/python3.11/dist-packages (from matplotlib~=3.0->cirq-core==1.4.1->cirq) (0.12.1)\n",
            "Requirement already satisfied: fonttools>=4.22.0 in /usr/local/lib/python3.11/dist-packages (from matplotlib~=3.0->cirq-core==1.4.1->cirq) (4.57.0)\n",
            "Requirement already satisfied: kiwisolver>=1.3.1 in /usr/local/lib/python3.11/dist-packages (from matplotlib~=3.0->cirq-core==1.4.1->cirq) (1.4.8)\n",
            "Requirement already satisfied: packaging>=20.0 in /usr/local/lib/python3.11/dist-packages (from matplotlib~=3.0->cirq-core==1.4.1->cirq) (24.2)\n",
            "Requirement already satisfied: pillow>=8 in /usr/local/lib/python3.11/dist-packages (from matplotlib~=3.0->cirq-core==1.4.1->cirq) (11.1.0)\n",
            "Requirement already satisfied: pyparsing>=2.3.1 in /usr/local/lib/python3.11/dist-packages (from matplotlib~=3.0->cirq-core==1.4.1->cirq) (3.2.3)\n",
            "Requirement already satisfied: python-dateutil>=2.7 in /usr/local/lib/python3.11/dist-packages (from matplotlib~=3.0->cirq-core==1.4.1->cirq) (2.8.2)\n",
            "Requirement already satisfied: deprecated<2.0.0,>=1.2.14 in /usr/local/lib/python3.11/dist-packages (from pyquil<5.0.0,>=4.11.0->cirq-rigetti==1.4.1->cirq) (1.2.18)\n",
            "Collecting packaging>=20.0 (from matplotlib~=3.0->cirq-core==1.4.1->cirq)\n",
            "  Downloading packaging-23.2-py3-none-any.whl.metadata (3.2 kB)\n",
            "Collecting qcs-sdk-python>=0.20.1 (from pyquil<5.0.0,>=4.11.0->cirq-rigetti==1.4.1->cirq)\n",
            "  Downloading qcs_sdk_python-0.21.18-cp311-cp311-manylinux_2_28_x86_64.whl.metadata (7.0 kB)\n",
            "Collecting quil>=0.15.3 (from pyquil<5.0.0,>=4.11.0->cirq-rigetti==1.4.1->cirq)\n",
            "  Downloading quil-0.16.0-cp311-cp311-manylinux_2_17_x86_64.manylinux2014_x86_64.whl.metadata (1.8 kB)\n",
            "Collecting rpcq<4.0.0,>=3.11.0 (from pyquil<5.0.0,>=4.11.0->cirq-rigetti==1.4.1->cirq)\n",
            "  Downloading rpcq-3.11.0.tar.gz (45 kB)\n",
            "\u001b[2K     \u001b[90m━━━━━━━━━━━━━━━━━━━━━━━━━━━━━━━━━━━━━━━━\u001b[0m \u001b[32m45.6/45.6 kB\u001b[0m \u001b[31m2.9 MB/s\u001b[0m eta \u001b[36m0:00:00\u001b[0m\n",
            "\u001b[?25h  Preparing metadata (setup.py) ... \u001b[?25l\u001b[?25hdone\n",
            "Collecting types-deprecated<2.0.0.0,>=1.2.9.3 (from pyquil<5.0.0,>=4.11.0->cirq-rigetti==1.4.1->cirq)\n",
            "  Downloading types_deprecated-1.2.15.20250304-py3-none-any.whl.metadata (2.0 kB)\n",
            "Requirement already satisfied: charset-normalizer<4,>=2 in /usr/local/lib/python3.11/dist-packages (from requests~=2.18->cirq-aqt==1.4.1->cirq) (3.4.1)\n",
            "Requirement already satisfied: idna<4,>=2.5 in /usr/local/lib/python3.11/dist-packages (from requests~=2.18->cirq-aqt==1.4.1->cirq) (3.10)\n",
            "Requirement already satisfied: urllib3<3,>=1.21.1 in /usr/local/lib/python3.11/dist-packages (from requests~=2.18->cirq-aqt==1.4.1->cirq) (2.3.0)\n",
            "Requirement already satisfied: certifi>=2017.4.17 in /usr/local/lib/python3.11/dist-packages (from requests~=2.18->cirq-aqt==1.4.1->cirq) (2025.1.31)\n",
            "Requirement already satisfied: pytz>=2020.1 in /usr/local/lib/python3.11/dist-packages (from pandas->cirq-core==1.4.1->cirq) (2025.2)\n",
            "Requirement already satisfied: tzdata>=2022.7 in /usr/local/lib/python3.11/dist-packages (from pandas->cirq-core==1.4.1->cirq) (2025.2)\n",
            "Requirement already satisfied: mpmath<1.4,>=1.1.0 in /usr/local/lib/python3.11/dist-packages (from sympy->cirq-core==1.4.1->cirq) (1.3.0)\n",
            "Requirement already satisfied: wrapt<2,>=1.10 in /usr/local/lib/python3.11/dist-packages (from deprecated<2.0.0,>=1.2.14->pyquil<5.0.0,>=4.11.0->cirq-rigetti==1.4.1->cirq) (1.17.2)\n",
            "Requirement already satisfied: cachetools<6.0,>=2.0.0 in /usr/local/lib/python3.11/dist-packages (from google-auth<3.0.0,>=2.14.1->google-api-core>=1.14.0->google-api-core[grpc]>=1.14.0->cirq-google==1.4.1->cirq) (5.5.2)\n",
            "Requirement already satisfied: pyasn1-modules>=0.2.1 in /usr/local/lib/python3.11/dist-packages (from google-auth<3.0.0,>=2.14.1->google-api-core>=1.14.0->google-api-core[grpc]>=1.14.0->cirq-google==1.4.1->cirq) (0.4.2)\n",
            "Requirement already satisfied: rsa<5,>=3.1.4 in /usr/local/lib/python3.11/dist-packages (from google-auth<3.0.0,>=2.14.1->google-api-core>=1.14.0->google-api-core[grpc]>=1.14.0->cirq-google==1.4.1->cirq) (4.9)\n",
            "INFO: pip is looking at multiple versions of grpcio-status to determine which version is compatible with other requirements. This could take a while.\n",
            "Collecting grpcio-status<2.0.dev0,>=1.33.2 (from google-api-core[grpc]>=1.14.0->cirq-google==1.4.1->cirq)\n",
            "  Downloading grpcio_status-1.70.0-py3-none-any.whl.metadata (1.1 kB)\n",
            "  Downloading grpcio_status-1.69.0-py3-none-any.whl.metadata (1.1 kB)\n",
            "  Downloading grpcio_status-1.68.1-py3-none-any.whl.metadata (1.1 kB)\n",
            "  Downloading grpcio_status-1.68.0-py3-none-any.whl.metadata (1.1 kB)\n",
            "  Downloading grpcio_status-1.67.1-py3-none-any.whl.metadata (1.1 kB)\n",
            "  Downloading grpcio_status-1.67.0-py3-none-any.whl.metadata (1.1 kB)\n",
            "  Downloading grpcio_status-1.66.2-py3-none-any.whl.metadata (1.1 kB)\n",
            "INFO: pip is still looking at multiple versions of grpcio-status to determine which version is compatible with other requirements. This could take a while.\n",
            "  Downloading grpcio_status-1.66.1-py3-none-any.whl.metadata (1.1 kB)\n",
            "  Downloading grpcio_status-1.66.0-py3-none-any.whl.metadata (1.1 kB)\n",
            "  Downloading grpcio_status-1.65.5-py3-none-any.whl.metadata (1.1 kB)\n",
            "  Downloading grpcio_status-1.65.4-py3-none-any.whl.metadata (1.1 kB)\n",
            "  Downloading grpcio_status-1.65.2-py3-none-any.whl.metadata (1.1 kB)\n",
            "INFO: This is taking longer than usual. You might need to provide the dependency resolver with stricter constraints to reduce runtime. See https://pip.pypa.io/warnings/backtracking for guidance. If you want to abort this run, press Ctrl + C.\n",
            "  Downloading grpcio_status-1.65.1-py3-none-any.whl.metadata (1.1 kB)\n",
            "  Downloading grpcio_status-1.64.3-py3-none-any.whl.metadata (1.1 kB)\n",
            "  Downloading grpcio_status-1.64.1-py3-none-any.whl.metadata (1.1 kB)\n",
            "  Downloading grpcio_status-1.64.0-py3-none-any.whl.metadata (1.1 kB)\n",
            "  Downloading grpcio_status-1.63.2-py3-none-any.whl.metadata (1.1 kB)\n",
            "  Downloading grpcio_status-1.63.0-py3-none-any.whl.metadata (1.1 kB)\n",
            "  Downloading grpcio_status-1.62.3-py3-none-any.whl.metadata (1.3 kB)\n",
            "Requirement already satisfied: six>=1.5 in /usr/local/lib/python3.11/dist-packages (from python-dateutil>=2.7->matplotlib~=3.0->cirq-core==1.4.1->cirq) (1.17.0)\n",
            "Collecting qcs-api-client-common>=0.11.8 (from qcs-sdk-python>=0.20.1->pyquil<5.0.0,>=4.11.0->cirq-rigetti==1.4.1->cirq)\n",
            "  Downloading qcs_api_client_common-0.11.8-cp311-cp311-manylinux_2_28_x86_64.whl.metadata (2.5 kB)\n",
            "Requirement already satisfied: msgpack<2.0,>=0.6 in /usr/local/lib/python3.11/dist-packages (from rpcq<4.0.0,>=3.11.0->pyquil<5.0.0,>=4.11.0->cirq-rigetti==1.4.1->cirq) (1.1.0)\n",
            "Collecting python-rapidjson (from rpcq<4.0.0,>=3.11.0->pyquil<5.0.0,>=4.11.0->cirq-rigetti==1.4.1->cirq)\n",
            "  Downloading python_rapidjson-1.20-cp311-cp311-manylinux_2_17_x86_64.manylinux2014_x86_64.whl.metadata (22 kB)\n",
            "Requirement already satisfied: pyzmq>=17 in /usr/local/lib/python3.11/dist-packages (from rpcq<4.0.0,>=3.11.0->pyquil<5.0.0,>=4.11.0->cirq-rigetti==1.4.1->cirq) (24.0.1)\n",
            "Collecting ruamel.yaml (from rpcq<4.0.0,>=3.11.0->pyquil<5.0.0,>=4.11.0->cirq-rigetti==1.4.1->cirq)\n",
            "  Downloading ruamel.yaml-0.18.10-py3-none-any.whl.metadata (23 kB)\n",
            "Requirement already satisfied: pyasn1<0.7.0,>=0.6.1 in /usr/local/lib/python3.11/dist-packages (from pyasn1-modules>=0.2.1->google-auth<3.0.0,>=2.14.1->google-api-core>=1.14.0->google-api-core[grpc]>=1.14.0->cirq-google==1.4.1->cirq) (0.6.1)\n",
            "Requirement already satisfied: grpc-interceptor>=0.15.0 in /usr/local/lib/python3.11/dist-packages (from qcs-api-client-common>=0.11.8->qcs-sdk-python>=0.20.1->pyquil<5.0.0,>=4.11.0->cirq-rigetti==1.4.1->cirq) (0.15.4)\n",
            "Requirement already satisfied: httpx>=0.27.0 in /usr/local/lib/python3.11/dist-packages (from qcs-api-client-common>=0.11.8->qcs-sdk-python>=0.20.1->pyquil<5.0.0,>=4.11.0->cirq-rigetti==1.4.1->cirq) (0.28.1)\n",
            "Collecting ruamel.yaml.clib>=0.2.7 (from ruamel.yaml->rpcq<4.0.0,>=3.11.0->pyquil<5.0.0,>=4.11.0->cirq-rigetti==1.4.1->cirq)\n",
            "  Downloading ruamel.yaml.clib-0.2.12-cp311-cp311-manylinux_2_17_x86_64.manylinux2014_x86_64.whl.metadata (2.7 kB)\n",
            "Requirement already satisfied: anyio in /usr/local/lib/python3.11/dist-packages (from httpx>=0.27.0->qcs-api-client-common>=0.11.8->qcs-sdk-python>=0.20.1->pyquil<5.0.0,>=4.11.0->cirq-rigetti==1.4.1->cirq) (4.9.0)\n",
            "Requirement already satisfied: httpcore==1.* in /usr/local/lib/python3.11/dist-packages (from httpx>=0.27.0->qcs-api-client-common>=0.11.8->qcs-sdk-python>=0.20.1->pyquil<5.0.0,>=4.11.0->cirq-rigetti==1.4.1->cirq) (1.0.7)\n",
            "Requirement already satisfied: h11<0.15,>=0.13 in /usr/local/lib/python3.11/dist-packages (from httpcore==1.*->httpx>=0.27.0->qcs-api-client-common>=0.11.8->qcs-sdk-python>=0.20.1->pyquil<5.0.0,>=4.11.0->cirq-rigetti==1.4.1->cirq) (0.14.0)\n",
            "Requirement already satisfied: sniffio>=1.1 in /usr/local/lib/python3.11/dist-packages (from anyio->httpx>=0.27.0->qcs-api-client-common>=0.11.8->qcs-sdk-python>=0.20.1->pyquil<5.0.0,>=4.11.0->cirq-rigetti==1.4.1->cirq) (1.3.1)\n",
            "Downloading cirq-1.4.1-py3-none-any.whl (8.0 kB)\n",
            "Downloading cirq_aqt-1.4.1-py3-none-any.whl (30 kB)\n",
            "Downloading cirq_core-1.4.1-py3-none-any.whl (1.9 MB)\n",
            "\u001b[2K   \u001b[90m━━━━━━━━━━━━━━━━━━━━━━━━━━━━━━━━━━━━━━━━\u001b[0m \u001b[32m1.9/1.9 MB\u001b[0m \u001b[31m38.0 MB/s\u001b[0m eta \u001b[36m0:00:00\u001b[0m\n",
            "\u001b[?25hDownloading cirq_google-1.4.1-py3-none-any.whl (532 kB)\n",
            "\u001b[2K   \u001b[90m━━━━━━━━━━━━━━━━━━━━━━━━━━━━━━━━━━━━━━━━\u001b[0m \u001b[32m532.7/532.7 kB\u001b[0m \u001b[31m22.0 MB/s\u001b[0m eta \u001b[36m0:00:00\u001b[0m\n",
            "\u001b[?25hDownloading cirq_ionq-1.4.1-py3-none-any.whl (60 kB)\n",
            "\u001b[2K   \u001b[90m━━━━━━━━━━━━━━━━━━━━━━━━━━━━━━━━━━━━━━━━\u001b[0m \u001b[32m60.5/60.5 kB\u001b[0m \u001b[31m4.4 MB/s\u001b[0m eta \u001b[36m0:00:00\u001b[0m\n",
            "\u001b[?25hDownloading cirq_pasqal-1.4.1-py3-none-any.whl (31 kB)\n",
            "Downloading cirq_rigetti-1.4.1-py3-none-any.whl (69 kB)\n",
            "\u001b[2K   \u001b[90m━━━━━━━━━━━━━━━━━━━━━━━━━━━━━━━━━━━━━━━━\u001b[0m \u001b[32m69.3/69.3 kB\u001b[0m \u001b[31m5.3 MB/s\u001b[0m eta \u001b[36m0:00:00\u001b[0m\n",
            "\u001b[?25hDownloading cirq_web-1.4.1-py3-none-any.whl (596 kB)\n",
            "\u001b[2K   \u001b[90m━━━━━━━━━━━━━━━━━━━━━━━━━━━━━━━━━━━━━━━━\u001b[0m \u001b[32m596.5/596.5 kB\u001b[0m \u001b[31m30.9 MB/s\u001b[0m eta \u001b[36m0:00:00\u001b[0m\n",
            "\u001b[?25hDownloading duet-0.2.9-py3-none-any.whl (29 kB)\n",
            "Downloading numpy-1.26.4-cp311-cp311-manylinux_2_17_x86_64.manylinux2014_x86_64.whl (18.3 MB)\n",
            "\u001b[2K   \u001b[90m━━━━━━━━━━━━━━━━━━━━━━━━━━━━━━━━━━━━━━━━\u001b[0m \u001b[32m18.3/18.3 MB\u001b[0m \u001b[31m61.5 MB/s\u001b[0m eta \u001b[36m0:00:00\u001b[0m\n",
            "\u001b[?25hDownloading protobuf-4.25.6-cp37-abi3-manylinux2014_x86_64.whl (294 kB)\n",
            "\u001b[2K   \u001b[90m━━━━━━━━━━━━━━━━━━━━━━━━━━━━━━━━━━━━━━━━\u001b[0m \u001b[32m294.6/294.6 kB\u001b[0m \u001b[31m20.2 MB/s\u001b[0m eta \u001b[36m0:00:00\u001b[0m\n",
            "\u001b[?25hDownloading pyquil-4.16.1-py3-none-any.whl (203 kB)\n",
            "\u001b[2K   \u001b[90m━━━━━━━━━━━━━━━━━━━━━━━━━━━━━━━━━━━━━━━━\u001b[0m \u001b[32m203.2/203.2 kB\u001b[0m \u001b[31m14.8 MB/s\u001b[0m eta \u001b[36m0:00:00\u001b[0m\n",
            "\u001b[?25hDownloading grpcio_status-1.62.3-py3-none-any.whl (14 kB)\n",
            "Downloading packaging-23.2-py3-none-any.whl (53 kB)\n",
            "\u001b[2K   \u001b[90m━━━━━━━━━━━━━━━━━━━━━━━━━━━━━━━━━━━━━━━━\u001b[0m \u001b[32m53.0/53.0 kB\u001b[0m \u001b[31m4.3 MB/s\u001b[0m eta \u001b[36m0:00:00\u001b[0m\n",
            "\u001b[?25hDownloading qcs_sdk_python-0.21.18-cp311-cp311-manylinux_2_28_x86_64.whl (6.7 MB)\n",
            "\u001b[2K   \u001b[90m━━━━━━━━━━━━━━━━━━━━━━━━━━━━━━━━━━━━━━━━\u001b[0m \u001b[32m6.7/6.7 MB\u001b[0m \u001b[31m74.7 MB/s\u001b[0m eta \u001b[36m0:00:00\u001b[0m\n",
            "\u001b[?25hDownloading quil-0.16.0-cp311-cp311-manylinux_2_17_x86_64.manylinux2014_x86_64.whl (2.3 MB)\n",
            "\u001b[2K   \u001b[90m━━━━━━━━━━━━━━━━━━━━━━━━━━━━━━━━━━━━━━━━\u001b[0m \u001b[32m2.3/2.3 MB\u001b[0m \u001b[31m55.9 MB/s\u001b[0m eta \u001b[36m0:00:00\u001b[0m\n",
            "\u001b[?25hDownloading types_deprecated-1.2.15.20250304-py3-none-any.whl (8.6 kB)\n",
            "Downloading qcs_api_client_common-0.11.8-cp311-cp311-manylinux_2_28_x86_64.whl (2.7 MB)\n",
            "\u001b[2K   \u001b[90m━━━━━━━━━━━━━━━━━━━━━━━━━━━━━━━━━━━━━━━━\u001b[0m \u001b[32m2.7/2.7 MB\u001b[0m \u001b[31m61.0 MB/s\u001b[0m eta \u001b[36m0:00:00\u001b[0m\n",
            "\u001b[?25hDownloading python_rapidjson-1.20-cp311-cp311-manylinux_2_17_x86_64.manylinux2014_x86_64.whl (1.7 MB)\n",
            "\u001b[2K   \u001b[90m━━━━━━━━━━━━━━━━━━━━━━━━━━━━━━━━━━━━━━━━\u001b[0m \u001b[32m1.7/1.7 MB\u001b[0m \u001b[31m55.1 MB/s\u001b[0m eta \u001b[36m0:00:00\u001b[0m\n",
            "\u001b[?25hDownloading ruamel.yaml-0.18.10-py3-none-any.whl (117 kB)\n",
            "\u001b[2K   \u001b[90m━━━━━━━━━━━━━━━━━━━━━━━━━━━━━━━━━━━━━━━━\u001b[0m \u001b[32m117.7/117.7 kB\u001b[0m \u001b[31m8.0 MB/s\u001b[0m eta \u001b[36m0:00:00\u001b[0m\n",
            "\u001b[?25hDownloading ruamel.yaml.clib-0.2.12-cp311-cp311-manylinux_2_17_x86_64.manylinux2014_x86_64.whl (739 kB)\n",
            "\u001b[2K   \u001b[90m━━━━━━━━━━━━━━━━━━━━━━━━━━━━━━━━━━━━━━━━\u001b[0m \u001b[32m739.1/739.1 kB\u001b[0m \u001b[31m37.7 MB/s\u001b[0m eta \u001b[36m0:00:00\u001b[0m\n",
            "\u001b[?25hBuilding wheels for collected packages: rpcq\n",
            "  Building wheel for rpcq (setup.py) ... \u001b[?25l\u001b[?25hdone\n",
            "  Created wheel for rpcq: filename=rpcq-3.11.0-py3-none-any.whl size=45969 sha256=fc336690b56f66fdad4def8ea79d4d7200691fb529d900cf1e5a1c177ee0af09\n",
            "  Stored in directory: /root/.cache/pip/wheels/b3/b6/ad/8f05ac735661e828024c764a6e6fc3eb6f84434e408aad5eab\n",
            "Successfully built rpcq\n",
            "Installing collected packages: types-deprecated, ruamel.yaml.clib, python-rapidjson, protobuf, packaging, numpy, duet, ruamel.yaml, quil, rpcq, qcs-api-client-common, grpcio-status, qcs-sdk-python, cirq-core, pyquil, cirq-web, cirq-pasqal, cirq-ionq, cirq-google, cirq-aqt, cirq-rigetti, cirq\n",
            "  Attempting uninstall: protobuf\n",
            "    Found existing installation: protobuf 5.29.4\n",
            "    Uninstalling protobuf-5.29.4:\n",
            "      Successfully uninstalled protobuf-5.29.4\n",
            "  Attempting uninstall: packaging\n",
            "    Found existing installation: packaging 24.2\n",
            "    Uninstalling packaging-24.2:\n",
            "      Successfully uninstalled packaging-24.2\n",
            "  Attempting uninstall: numpy\n",
            "    Found existing installation: numpy 2.0.2\n",
            "    Uninstalling numpy-2.0.2:\n",
            "      Successfully uninstalled numpy-2.0.2\n",
            "  Attempting uninstall: grpcio-status\n",
            "    Found existing installation: grpcio-status 1.71.0\n",
            "    Uninstalling grpcio-status-1.71.0:\n",
            "      Successfully uninstalled grpcio-status-1.71.0\n",
            "\u001b[31mERROR: pip's dependency resolver does not currently take into account all the packages that are installed. This behaviour is the source of the following dependency conflicts.\n",
            "google-cloud-bigquery 3.31.0 requires packaging>=24.2.0, but you have packaging 23.2 which is incompatible.\u001b[0m\u001b[31m\n",
            "\u001b[0mSuccessfully installed cirq-1.4.1 cirq-aqt-1.4.1 cirq-core-1.4.1 cirq-google-1.4.1 cirq-ionq-1.4.1 cirq-pasqal-1.4.1 cirq-rigetti-1.4.1 cirq-web-1.4.1 duet-0.2.9 grpcio-status-1.62.3 numpy-1.26.4 packaging-23.2 protobuf-4.25.6 pyquil-4.16.1 python-rapidjson-1.20 qcs-api-client-common-0.11.8 qcs-sdk-python-0.21.18 quil-0.16.0 rpcq-3.11.0 ruamel.yaml-0.18.10 ruamel.yaml.clib-0.2.12 types-deprecated-1.2.15.20250304\n"
          ]
        }
      ],
      "source": [
        "!pip install cirq"
      ]
    },
    {
      "cell_type": "code",
      "source": [
        "import cirq\n",
        "import numpy as np\n",
        "\n",
        "# Define qubits\n",
        "q0, q1, q2, q3, q4 = cirq.LineQubit.range(5)\n",
        "\n",
        "# ----------------------------------------------------------------------------\n",
        "# Layer 1: Bulk Computation (Simulated with a random unitary)\n",
        "# ----------------------------------------------------------------------------\n",
        "def apply_bulk_scrambling(circuit, qubits):\n",
        "    for q in qubits:\n",
        "        circuit.append(cirq.rx(np.random.uniform(0, np.pi))(q))\n",
        "        circuit.append(cirq.ry(np.random.uniform(0, np.pi))(q))\n",
        "    for i in range(len(qubits) - 1):\n",
        "        circuit.append(cirq.CNOT(qubits[i], qubits[i + 1]))\n",
        "    circuit.append(cirq.CNOT(qubits[-1], qubits[0]))\n",
        "\n",
        "# ----------------------------------------------------------------------------\n",
        "# Layer 2: Event Horizon Interface (Quantum Error Correction Mockup)\n",
        "# ----------------------------------------------------------------------------\n",
        "def apply_event_horizon_qec(circuit, data_qubit, ancilla_qubits):\n",
        "    # Encode using a repetition code (simplified QEC)\n",
        "    for ancilla in ancilla_qubits:\n",
        "        circuit.append(cirq.CNOT(data_qubit, ancilla))\n",
        "\n",
        "# ----------------------------------------------------------------------------\n",
        "# Layer 3: Traversable Wormhole Link (Teleportation)\n",
        "# ----------------------------------------------------------------------------\n",
        "def teleport_through_wormhole(circuit, source, epr0, epr1, target):\n",
        "    # Create EPR pair\n",
        "    circuit.append([cirq.H(epr0), cirq.CNOT(epr0, epr1)])\n",
        "    # Bell measurement on source and one half of EPR\n",
        "    circuit.append([cirq.CNOT(source, epr0), cirq.H(source)])\n",
        "    circuit.append([cirq.measure(source, key='m_source'),\n",
        "                    cirq.measure(epr0, key='m_epr0')])\n",
        "    # Simulate classical correction (not physically applied in this basic circuit)\n",
        "\n",
        "# ----------------------------------------------------------------------------\n",
        "# Orchestration: Run the full simulation\n",
        "# ----------------------------------------------------------------------------\n",
        "def run_holographic_node_simulation():\n",
        "    circuit = cirq.Circuit()\n",
        "\n",
        "    # Step 1: Initialize data\n",
        "    circuit.append(cirq.X(q0))  # q0 = |1⟩, others start at |0⟩\n",
        "\n",
        "    # Step 2: Apply bulk computation (simulate singularity logic)\n",
        "    apply_bulk_scrambling(circuit, [q0, q1, q2])\n",
        "\n",
        "    # Step 3: Encode data at event horizon (simple QEC)\n",
        "    apply_event_horizon_qec(circuit, q0, [q1, q2])\n",
        "\n",
        "    # Step 4: Traversable wormhole teleportation (q3/q4 form EPR pair)\n",
        "    teleport_through_wormhole(circuit, q2, q3, q4, q4)\n",
        "\n",
        "    # Step 5: Final readout\n",
        "    circuit.append(cirq.measure(q1, key='q1'))\n",
        "    circuit.append(cirq.measure(q2, key='q2'))\n",
        "    circuit.append(cirq.measure(q4, key='q4'))\n",
        "\n",
        "    simulator = cirq.Simulator()\n",
        "    result = simulator.run(circuit, repetitions=10)\n",
        "\n",
        "    return circuit, result\n",
        "\n",
        "# Execute\n",
        "circuit, result = run_holographic_node_simulation()\n",
        "print(\"📜 Quantum Circuit:\")\n",
        "print(circuit)\n",
        "print(\"\\n📊 Measurement Results:\")\n",
        "print(result)\n"
      ],
      "metadata": {
        "colab": {
          "base_uri": "https://localhost:8080/"
        },
        "id": "8Ht0OMyE6iO8",
        "outputId": "57e0fa6f-1a81-496d-fc57-d15ab72633cf"
      },
      "execution_count": 1,
      "outputs": [
        {
          "output_type": "stream",
          "name": "stdout",
          "text": [
            "📜 Quantum Circuit:\n",
            "                                                            ┌────────┐\n",
            "0: ───X───────────Rx(0.357π)───Ry(0.848π)───@───────X───@────@───────────────────────────────────────────────────────\n",
            "                                            │       │   │    │\n",
            "1: ───Rx(0.21π)───Ry(0.099π)────────────────X───@───┼───X────┼M('q1')────────────────────────────────────────────────\n",
            "                                                │   │        │\n",
            "2: ───Rx(0.7π)────Ry(0.286π)────────────────────X───@────────X───────────@───H─────────────M('m_source')───M('q2')───\n",
            "                                                                         │\n",
            "3: ───H───────────@──────────────────────────────────────────────────────X───M('m_epr0')─────────────────────────────\n",
            "                  │\n",
            "4: ───────────────X────────────M('q4')───────────────────────────────────────────────────────────────────────────────\n",
            "                                                            └────────┘\n",
            "\n",
            "📊 Measurement Results:\n",
            "m_epr0=0011100101\n",
            "m_source=1000000111\n",
            "q1=1001110110\n",
            "q2=1000000111\n",
            "q4=0001001110\n"
          ]
        }
      ]
    },
    {
      "cell_type": "code",
      "source": [
        "!pip install cirq matplotlib ipywidgets"
      ],
      "metadata": {
        "colab": {
          "base_uri": "https://localhost:8080/"
        },
        "id": "TvRVxWti73SX",
        "outputId": "db37120b-bf9a-4a4d-c2eb-2e534cdfd544"
      },
      "execution_count": 2,
      "outputs": [
        {
          "output_type": "stream",
          "name": "stdout",
          "text": [
            "Requirement already satisfied: cirq in /usr/local/lib/python3.11/dist-packages (1.4.1)\n",
            "Requirement already satisfied: matplotlib in /usr/local/lib/python3.11/dist-packages (3.10.0)\n",
            "Requirement already satisfied: ipywidgets in /usr/local/lib/python3.11/dist-packages (7.7.1)\n",
            "Requirement already satisfied: cirq-aqt==1.4.1 in /usr/local/lib/python3.11/dist-packages (from cirq) (1.4.1)\n",
            "Requirement already satisfied: cirq-core==1.4.1 in /usr/local/lib/python3.11/dist-packages (from cirq) (1.4.1)\n",
            "Requirement already satisfied: cirq-google==1.4.1 in /usr/local/lib/python3.11/dist-packages (from cirq) (1.4.1)\n",
            "Requirement already satisfied: cirq-ionq==1.4.1 in /usr/local/lib/python3.11/dist-packages (from cirq) (1.4.1)\n",
            "Requirement already satisfied: cirq-pasqal==1.4.1 in /usr/local/lib/python3.11/dist-packages (from cirq) (1.4.1)\n",
            "Requirement already satisfied: cirq-rigetti==1.4.1 in /usr/local/lib/python3.11/dist-packages (from cirq) (1.4.1)\n",
            "Requirement already satisfied: cirq-web==1.4.1 in /usr/local/lib/python3.11/dist-packages (from cirq) (1.4.1)\n",
            "Requirement already satisfied: requests~=2.18 in /usr/local/lib/python3.11/dist-packages (from cirq-aqt==1.4.1->cirq) (2.32.3)\n",
            "Requirement already satisfied: attrs>=21.3.0 in /usr/local/lib/python3.11/dist-packages (from cirq-core==1.4.1->cirq) (25.3.0)\n",
            "Requirement already satisfied: duet>=0.2.8 in /usr/local/lib/python3.11/dist-packages (from cirq-core==1.4.1->cirq) (0.2.9)\n",
            "Requirement already satisfied: networkx>=2.4 in /usr/local/lib/python3.11/dist-packages (from cirq-core==1.4.1->cirq) (3.4.2)\n",
            "Requirement already satisfied: numpy~=1.22 in /usr/local/lib/python3.11/dist-packages (from cirq-core==1.4.1->cirq) (1.26.4)\n",
            "Requirement already satisfied: pandas in /usr/local/lib/python3.11/dist-packages (from cirq-core==1.4.1->cirq) (2.2.2)\n",
            "Requirement already satisfied: sortedcontainers~=2.0 in /usr/local/lib/python3.11/dist-packages (from cirq-core==1.4.1->cirq) (2.4.0)\n",
            "Requirement already satisfied: scipy~=1.0 in /usr/local/lib/python3.11/dist-packages (from cirq-core==1.4.1->cirq) (1.14.1)\n",
            "Requirement already satisfied: sympy in /usr/local/lib/python3.11/dist-packages (from cirq-core==1.4.1->cirq) (1.13.1)\n",
            "Requirement already satisfied: typing-extensions>=4.2 in /usr/local/lib/python3.11/dist-packages (from cirq-core==1.4.1->cirq) (4.13.1)\n",
            "Requirement already satisfied: tqdm in /usr/local/lib/python3.11/dist-packages (from cirq-core==1.4.1->cirq) (4.67.1)\n",
            "Requirement already satisfied: google-api-core>=1.14.0 in /usr/local/lib/python3.11/dist-packages (from google-api-core[grpc]>=1.14.0->cirq-google==1.4.1->cirq) (2.24.2)\n",
            "Requirement already satisfied: proto-plus>=1.20.0 in /usr/local/lib/python3.11/dist-packages (from cirq-google==1.4.1->cirq) (1.26.1)\n",
            "Requirement already satisfied: protobuf<5.0.0,>=3.15.0 in /usr/local/lib/python3.11/dist-packages (from cirq-google==1.4.1->cirq) (4.25.6)\n",
            "Requirement already satisfied: pyquil<5.0.0,>=4.11.0 in /usr/local/lib/python3.11/dist-packages (from cirq-rigetti==1.4.1->cirq) (4.16.1)\n",
            "Requirement already satisfied: contourpy>=1.0.1 in /usr/local/lib/python3.11/dist-packages (from matplotlib) (1.3.1)\n",
            "Requirement already satisfied: cycler>=0.10 in /usr/local/lib/python3.11/dist-packages (from matplotlib) (0.12.1)\n",
            "Requirement already satisfied: fonttools>=4.22.0 in /usr/local/lib/python3.11/dist-packages (from matplotlib) (4.57.0)\n",
            "Requirement already satisfied: kiwisolver>=1.3.1 in /usr/local/lib/python3.11/dist-packages (from matplotlib) (1.4.8)\n",
            "Requirement already satisfied: packaging>=20.0 in /usr/local/lib/python3.11/dist-packages (from matplotlib) (23.2)\n",
            "Requirement already satisfied: pillow>=8 in /usr/local/lib/python3.11/dist-packages (from matplotlib) (11.1.0)\n",
            "Requirement already satisfied: pyparsing>=2.3.1 in /usr/local/lib/python3.11/dist-packages (from matplotlib) (3.2.3)\n",
            "Requirement already satisfied: python-dateutil>=2.7 in /usr/local/lib/python3.11/dist-packages (from matplotlib) (2.8.2)\n",
            "Requirement already satisfied: ipykernel>=4.5.1 in /usr/local/lib/python3.11/dist-packages (from ipywidgets) (6.17.1)\n",
            "Requirement already satisfied: ipython-genutils~=0.2.0 in /usr/local/lib/python3.11/dist-packages (from ipywidgets) (0.2.0)\n",
            "Requirement already satisfied: traitlets>=4.3.1 in /usr/local/lib/python3.11/dist-packages (from ipywidgets) (5.7.1)\n",
            "Requirement already satisfied: widgetsnbextension~=3.6.0 in /usr/local/lib/python3.11/dist-packages (from ipywidgets) (3.6.10)\n",
            "Requirement already satisfied: ipython>=4.0.0 in /usr/local/lib/python3.11/dist-packages (from ipywidgets) (7.34.0)\n",
            "Requirement already satisfied: jupyterlab-widgets>=1.0.0 in /usr/local/lib/python3.11/dist-packages (from ipywidgets) (3.0.13)\n",
            "Requirement already satisfied: debugpy>=1.0 in /usr/local/lib/python3.11/dist-packages (from ipykernel>=4.5.1->ipywidgets) (1.8.0)\n",
            "Requirement already satisfied: jupyter-client>=6.1.12 in /usr/local/lib/python3.11/dist-packages (from ipykernel>=4.5.1->ipywidgets) (6.1.12)\n",
            "Requirement already satisfied: matplotlib-inline>=0.1 in /usr/local/lib/python3.11/dist-packages (from ipykernel>=4.5.1->ipywidgets) (0.1.7)\n",
            "Requirement already satisfied: nest-asyncio in /usr/local/lib/python3.11/dist-packages (from ipykernel>=4.5.1->ipywidgets) (1.6.0)\n",
            "Requirement already satisfied: psutil in /usr/local/lib/python3.11/dist-packages (from ipykernel>=4.5.1->ipywidgets) (5.9.5)\n",
            "Requirement already satisfied: pyzmq>=17 in /usr/local/lib/python3.11/dist-packages (from ipykernel>=4.5.1->ipywidgets) (24.0.1)\n",
            "Requirement already satisfied: tornado>=6.1 in /usr/local/lib/python3.11/dist-packages (from ipykernel>=4.5.1->ipywidgets) (6.4.2)\n",
            "Requirement already satisfied: setuptools>=18.5 in /usr/local/lib/python3.11/dist-packages (from ipython>=4.0.0->ipywidgets) (75.2.0)\n",
            "Collecting jedi>=0.16 (from ipython>=4.0.0->ipywidgets)\n",
            "  Downloading jedi-0.19.2-py2.py3-none-any.whl.metadata (22 kB)\n",
            "Requirement already satisfied: decorator in /usr/local/lib/python3.11/dist-packages (from ipython>=4.0.0->ipywidgets) (4.4.2)\n",
            "Requirement already satisfied: pickleshare in /usr/local/lib/python3.11/dist-packages (from ipython>=4.0.0->ipywidgets) (0.7.5)\n",
            "Requirement already satisfied: prompt-toolkit!=3.0.0,!=3.0.1,<3.1.0,>=2.0.0 in /usr/local/lib/python3.11/dist-packages (from ipython>=4.0.0->ipywidgets) (3.0.50)\n",
            "Requirement already satisfied: pygments in /usr/local/lib/python3.11/dist-packages (from ipython>=4.0.0->ipywidgets) (2.18.0)\n",
            "Requirement already satisfied: backcall in /usr/local/lib/python3.11/dist-packages (from ipython>=4.0.0->ipywidgets) (0.2.0)\n",
            "Requirement already satisfied: pexpect>4.3 in /usr/local/lib/python3.11/dist-packages (from ipython>=4.0.0->ipywidgets) (4.9.0)\n",
            "Requirement already satisfied: six>=1.5 in /usr/local/lib/python3.11/dist-packages (from python-dateutil>=2.7->matplotlib) (1.17.0)\n",
            "Requirement already satisfied: notebook>=4.4.1 in /usr/local/lib/python3.11/dist-packages (from widgetsnbextension~=3.6.0->ipywidgets) (6.5.7)\n",
            "Requirement already satisfied: googleapis-common-protos<2.0.0,>=1.56.2 in /usr/local/lib/python3.11/dist-packages (from google-api-core>=1.14.0->google-api-core[grpc]>=1.14.0->cirq-google==1.4.1->cirq) (1.69.2)\n",
            "Requirement already satisfied: google-auth<3.0.0,>=2.14.1 in /usr/local/lib/python3.11/dist-packages (from google-api-core>=1.14.0->google-api-core[grpc]>=1.14.0->cirq-google==1.4.1->cirq) (2.38.0)\n",
            "Requirement already satisfied: grpcio<2.0dev,>=1.33.2 in /usr/local/lib/python3.11/dist-packages (from google-api-core[grpc]>=1.14.0->cirq-google==1.4.1->cirq) (1.71.0)\n",
            "Requirement already satisfied: grpcio-status<2.0.dev0,>=1.33.2 in /usr/local/lib/python3.11/dist-packages (from google-api-core[grpc]>=1.14.0->cirq-google==1.4.1->cirq) (1.62.3)\n",
            "Requirement already satisfied: parso<0.9.0,>=0.8.4 in /usr/local/lib/python3.11/dist-packages (from jedi>=0.16->ipython>=4.0.0->ipywidgets) (0.8.4)\n",
            "Requirement already satisfied: jupyter-core>=4.6.0 in /usr/local/lib/python3.11/dist-packages (from jupyter-client>=6.1.12->ipykernel>=4.5.1->ipywidgets) (5.7.2)\n",
            "Requirement already satisfied: jinja2 in /usr/local/lib/python3.11/dist-packages (from notebook>=4.4.1->widgetsnbextension~=3.6.0->ipywidgets) (3.1.6)\n",
            "Requirement already satisfied: argon2-cffi in /usr/local/lib/python3.11/dist-packages (from notebook>=4.4.1->widgetsnbextension~=3.6.0->ipywidgets) (23.1.0)\n",
            "Requirement already satisfied: nbformat in /usr/local/lib/python3.11/dist-packages (from notebook>=4.4.1->widgetsnbextension~=3.6.0->ipywidgets) (5.10.4)\n",
            "Requirement already satisfied: nbconvert>=5 in /usr/local/lib/python3.11/dist-packages (from notebook>=4.4.1->widgetsnbextension~=3.6.0->ipywidgets) (7.16.6)\n",
            "Requirement already satisfied: Send2Trash>=1.8.0 in /usr/local/lib/python3.11/dist-packages (from notebook>=4.4.1->widgetsnbextension~=3.6.0->ipywidgets) (1.8.3)\n",
            "Requirement already satisfied: terminado>=0.8.3 in /usr/local/lib/python3.11/dist-packages (from notebook>=4.4.1->widgetsnbextension~=3.6.0->ipywidgets) (0.18.1)\n",
            "Requirement already satisfied: prometheus-client in /usr/local/lib/python3.11/dist-packages (from notebook>=4.4.1->widgetsnbextension~=3.6.0->ipywidgets) (0.21.1)\n",
            "Requirement already satisfied: nbclassic>=0.4.7 in /usr/local/lib/python3.11/dist-packages (from notebook>=4.4.1->widgetsnbextension~=3.6.0->ipywidgets) (1.2.0)\n",
            "Requirement already satisfied: ptyprocess>=0.5 in /usr/local/lib/python3.11/dist-packages (from pexpect>4.3->ipython>=4.0.0->ipywidgets) (0.7.0)\n",
            "Requirement already satisfied: wcwidth in /usr/local/lib/python3.11/dist-packages (from prompt-toolkit!=3.0.0,!=3.0.1,<3.1.0,>=2.0.0->ipython>=4.0.0->ipywidgets) (0.2.13)\n",
            "Requirement already satisfied: deprecated<2.0.0,>=1.2.14 in /usr/local/lib/python3.11/dist-packages (from pyquil<5.0.0,>=4.11.0->cirq-rigetti==1.4.1->cirq) (1.2.18)\n",
            "Requirement already satisfied: qcs-sdk-python>=0.20.1 in /usr/local/lib/python3.11/dist-packages (from pyquil<5.0.0,>=4.11.0->cirq-rigetti==1.4.1->cirq) (0.21.18)\n",
            "Requirement already satisfied: quil>=0.15.3 in /usr/local/lib/python3.11/dist-packages (from pyquil<5.0.0,>=4.11.0->cirq-rigetti==1.4.1->cirq) (0.16.0)\n",
            "Requirement already satisfied: rpcq<4.0.0,>=3.11.0 in /usr/local/lib/python3.11/dist-packages (from pyquil<5.0.0,>=4.11.0->cirq-rigetti==1.4.1->cirq) (3.11.0)\n",
            "Requirement already satisfied: types-deprecated<2.0.0.0,>=1.2.9.3 in /usr/local/lib/python3.11/dist-packages (from pyquil<5.0.0,>=4.11.0->cirq-rigetti==1.4.1->cirq) (1.2.15.20250304)\n",
            "Requirement already satisfied: charset-normalizer<4,>=2 in /usr/local/lib/python3.11/dist-packages (from requests~=2.18->cirq-aqt==1.4.1->cirq) (3.4.1)\n",
            "Requirement already satisfied: idna<4,>=2.5 in /usr/local/lib/python3.11/dist-packages (from requests~=2.18->cirq-aqt==1.4.1->cirq) (3.10)\n",
            "Requirement already satisfied: urllib3<3,>=1.21.1 in /usr/local/lib/python3.11/dist-packages (from requests~=2.18->cirq-aqt==1.4.1->cirq) (2.3.0)\n",
            "Requirement already satisfied: certifi>=2017.4.17 in /usr/local/lib/python3.11/dist-packages (from requests~=2.18->cirq-aqt==1.4.1->cirq) (2025.1.31)\n",
            "Requirement already satisfied: pytz>=2020.1 in /usr/local/lib/python3.11/dist-packages (from pandas->cirq-core==1.4.1->cirq) (2025.2)\n",
            "Requirement already satisfied: tzdata>=2022.7 in /usr/local/lib/python3.11/dist-packages (from pandas->cirq-core==1.4.1->cirq) (2025.2)\n",
            "Requirement already satisfied: mpmath<1.4,>=1.1.0 in /usr/local/lib/python3.11/dist-packages (from sympy->cirq-core==1.4.1->cirq) (1.3.0)\n",
            "Requirement already satisfied: wrapt<2,>=1.10 in /usr/local/lib/python3.11/dist-packages (from deprecated<2.0.0,>=1.2.14->pyquil<5.0.0,>=4.11.0->cirq-rigetti==1.4.1->cirq) (1.17.2)\n",
            "Requirement already satisfied: cachetools<6.0,>=2.0.0 in /usr/local/lib/python3.11/dist-packages (from google-auth<3.0.0,>=2.14.1->google-api-core>=1.14.0->google-api-core[grpc]>=1.14.0->cirq-google==1.4.1->cirq) (5.5.2)\n",
            "Requirement already satisfied: pyasn1-modules>=0.2.1 in /usr/local/lib/python3.11/dist-packages (from google-auth<3.0.0,>=2.14.1->google-api-core>=1.14.0->google-api-core[grpc]>=1.14.0->cirq-google==1.4.1->cirq) (0.4.2)\n",
            "Requirement already satisfied: rsa<5,>=3.1.4 in /usr/local/lib/python3.11/dist-packages (from google-auth<3.0.0,>=2.14.1->google-api-core>=1.14.0->google-api-core[grpc]>=1.14.0->cirq-google==1.4.1->cirq) (4.9)\n",
            "Requirement already satisfied: platformdirs>=2.5 in /usr/local/lib/python3.11/dist-packages (from jupyter-core>=4.6.0->jupyter-client>=6.1.12->ipykernel>=4.5.1->ipywidgets) (4.3.7)\n",
            "Requirement already satisfied: notebook-shim>=0.2.3 in /usr/local/lib/python3.11/dist-packages (from nbclassic>=0.4.7->notebook>=4.4.1->widgetsnbextension~=3.6.0->ipywidgets) (0.2.4)\n",
            "Requirement already satisfied: beautifulsoup4 in /usr/local/lib/python3.11/dist-packages (from nbconvert>=5->notebook>=4.4.1->widgetsnbextension~=3.6.0->ipywidgets) (4.13.3)\n",
            "Requirement already satisfied: bleach!=5.0.0 in /usr/local/lib/python3.11/dist-packages (from bleach[css]!=5.0.0->nbconvert>=5->notebook>=4.4.1->widgetsnbextension~=3.6.0->ipywidgets) (6.2.0)\n",
            "Requirement already satisfied: defusedxml in /usr/local/lib/python3.11/dist-packages (from nbconvert>=5->notebook>=4.4.1->widgetsnbextension~=3.6.0->ipywidgets) (0.7.1)\n",
            "Requirement already satisfied: jupyterlab-pygments in /usr/local/lib/python3.11/dist-packages (from nbconvert>=5->notebook>=4.4.1->widgetsnbextension~=3.6.0->ipywidgets) (0.3.0)\n",
            "Requirement already satisfied: markupsafe>=2.0 in /usr/local/lib/python3.11/dist-packages (from nbconvert>=5->notebook>=4.4.1->widgetsnbextension~=3.6.0->ipywidgets) (3.0.2)\n",
            "Requirement already satisfied: mistune<4,>=2.0.3 in /usr/local/lib/python3.11/dist-packages (from nbconvert>=5->notebook>=4.4.1->widgetsnbextension~=3.6.0->ipywidgets) (3.1.3)\n",
            "Requirement already satisfied: nbclient>=0.5.0 in /usr/local/lib/python3.11/dist-packages (from nbconvert>=5->notebook>=4.4.1->widgetsnbextension~=3.6.0->ipywidgets) (0.10.2)\n",
            "Requirement already satisfied: pandocfilters>=1.4.1 in /usr/local/lib/python3.11/dist-packages (from nbconvert>=5->notebook>=4.4.1->widgetsnbextension~=3.6.0->ipywidgets) (1.5.1)\n",
            "Requirement already satisfied: fastjsonschema>=2.15 in /usr/local/lib/python3.11/dist-packages (from nbformat->notebook>=4.4.1->widgetsnbextension~=3.6.0->ipywidgets) (2.21.1)\n",
            "Requirement already satisfied: jsonschema>=2.6 in /usr/local/lib/python3.11/dist-packages (from nbformat->notebook>=4.4.1->widgetsnbextension~=3.6.0->ipywidgets) (4.23.0)\n",
            "Requirement already satisfied: qcs-api-client-common>=0.11.8 in /usr/local/lib/python3.11/dist-packages (from qcs-sdk-python>=0.20.1->pyquil<5.0.0,>=4.11.0->cirq-rigetti==1.4.1->cirq) (0.11.8)\n",
            "Requirement already satisfied: msgpack<2.0,>=0.6 in /usr/local/lib/python3.11/dist-packages (from rpcq<4.0.0,>=3.11.0->pyquil<5.0.0,>=4.11.0->cirq-rigetti==1.4.1->cirq) (1.1.0)\n",
            "Requirement already satisfied: python-rapidjson in /usr/local/lib/python3.11/dist-packages (from rpcq<4.0.0,>=3.11.0->pyquil<5.0.0,>=4.11.0->cirq-rigetti==1.4.1->cirq) (1.20)\n",
            "Requirement already satisfied: ruamel.yaml in /usr/local/lib/python3.11/dist-packages (from rpcq<4.0.0,>=3.11.0->pyquil<5.0.0,>=4.11.0->cirq-rigetti==1.4.1->cirq) (0.18.10)\n",
            "Requirement already satisfied: argon2-cffi-bindings in /usr/local/lib/python3.11/dist-packages (from argon2-cffi->notebook>=4.4.1->widgetsnbextension~=3.6.0->ipywidgets) (21.2.0)\n",
            "Requirement already satisfied: webencodings in /usr/local/lib/python3.11/dist-packages (from bleach!=5.0.0->bleach[css]!=5.0.0->nbconvert>=5->notebook>=4.4.1->widgetsnbextension~=3.6.0->ipywidgets) (0.5.1)\n",
            "Requirement already satisfied: tinycss2<1.5,>=1.1.0 in /usr/local/lib/python3.11/dist-packages (from bleach[css]!=5.0.0->nbconvert>=5->notebook>=4.4.1->widgetsnbextension~=3.6.0->ipywidgets) (1.4.0)\n",
            "Requirement already satisfied: jsonschema-specifications>=2023.03.6 in /usr/local/lib/python3.11/dist-packages (from jsonschema>=2.6->nbformat->notebook>=4.4.1->widgetsnbextension~=3.6.0->ipywidgets) (2024.10.1)\n",
            "Requirement already satisfied: referencing>=0.28.4 in /usr/local/lib/python3.11/dist-packages (from jsonschema>=2.6->nbformat->notebook>=4.4.1->widgetsnbextension~=3.6.0->ipywidgets) (0.36.2)\n",
            "Requirement already satisfied: rpds-py>=0.7.1 in /usr/local/lib/python3.11/dist-packages (from jsonschema>=2.6->nbformat->notebook>=4.4.1->widgetsnbextension~=3.6.0->ipywidgets) (0.24.0)\n",
            "Requirement already satisfied: jupyter-server<3,>=1.8 in /usr/local/lib/python3.11/dist-packages (from notebook-shim>=0.2.3->nbclassic>=0.4.7->notebook>=4.4.1->widgetsnbextension~=3.6.0->ipywidgets) (1.16.0)\n",
            "Requirement already satisfied: pyasn1<0.7.0,>=0.6.1 in /usr/local/lib/python3.11/dist-packages (from pyasn1-modules>=0.2.1->google-auth<3.0.0,>=2.14.1->google-api-core>=1.14.0->google-api-core[grpc]>=1.14.0->cirq-google==1.4.1->cirq) (0.6.1)\n",
            "Requirement already satisfied: grpc-interceptor>=0.15.0 in /usr/local/lib/python3.11/dist-packages (from qcs-api-client-common>=0.11.8->qcs-sdk-python>=0.20.1->pyquil<5.0.0,>=4.11.0->cirq-rigetti==1.4.1->cirq) (0.15.4)\n",
            "Requirement already satisfied: httpx>=0.27.0 in /usr/local/lib/python3.11/dist-packages (from qcs-api-client-common>=0.11.8->qcs-sdk-python>=0.20.1->pyquil<5.0.0,>=4.11.0->cirq-rigetti==1.4.1->cirq) (0.28.1)\n",
            "Requirement already satisfied: cffi>=1.0.1 in /usr/local/lib/python3.11/dist-packages (from argon2-cffi-bindings->argon2-cffi->notebook>=4.4.1->widgetsnbextension~=3.6.0->ipywidgets) (1.17.1)\n",
            "Requirement already satisfied: soupsieve>1.2 in /usr/local/lib/python3.11/dist-packages (from beautifulsoup4->nbconvert>=5->notebook>=4.4.1->widgetsnbextension~=3.6.0->ipywidgets) (2.6)\n",
            "Requirement already satisfied: ruamel.yaml.clib>=0.2.7 in /usr/local/lib/python3.11/dist-packages (from ruamel.yaml->rpcq<4.0.0,>=3.11.0->pyquil<5.0.0,>=4.11.0->cirq-rigetti==1.4.1->cirq) (0.2.12)\n",
            "Requirement already satisfied: pycparser in /usr/local/lib/python3.11/dist-packages (from cffi>=1.0.1->argon2-cffi-bindings->argon2-cffi->notebook>=4.4.1->widgetsnbextension~=3.6.0->ipywidgets) (2.22)\n",
            "Requirement already satisfied: anyio in /usr/local/lib/python3.11/dist-packages (from httpx>=0.27.0->qcs-api-client-common>=0.11.8->qcs-sdk-python>=0.20.1->pyquil<5.0.0,>=4.11.0->cirq-rigetti==1.4.1->cirq) (4.9.0)\n",
            "Requirement already satisfied: httpcore==1.* in /usr/local/lib/python3.11/dist-packages (from httpx>=0.27.0->qcs-api-client-common>=0.11.8->qcs-sdk-python>=0.20.1->pyquil<5.0.0,>=4.11.0->cirq-rigetti==1.4.1->cirq) (1.0.7)\n",
            "Requirement already satisfied: h11<0.15,>=0.13 in /usr/local/lib/python3.11/dist-packages (from httpcore==1.*->httpx>=0.27.0->qcs-api-client-common>=0.11.8->qcs-sdk-python>=0.20.1->pyquil<5.0.0,>=4.11.0->cirq-rigetti==1.4.1->cirq) (0.14.0)\n",
            "Requirement already satisfied: websocket-client in /usr/local/lib/python3.11/dist-packages (from jupyter-server<3,>=1.8->notebook-shim>=0.2.3->nbclassic>=0.4.7->notebook>=4.4.1->widgetsnbextension~=3.6.0->ipywidgets) (1.8.0)\n",
            "Requirement already satisfied: sniffio>=1.1 in /usr/local/lib/python3.11/dist-packages (from anyio->httpx>=0.27.0->qcs-api-client-common>=0.11.8->qcs-sdk-python>=0.20.1->pyquil<5.0.0,>=4.11.0->cirq-rigetti==1.4.1->cirq) (1.3.1)\n",
            "Downloading jedi-0.19.2-py2.py3-none-any.whl (1.6 MB)\n",
            "\u001b[2K   \u001b[90m━━━━━━━━━━━━━━━━━━━━━━━━━━━━━━━━━━━━━━━━\u001b[0m \u001b[32m1.6/1.6 MB\u001b[0m \u001b[31m20.3 MB/s\u001b[0m eta \u001b[36m0:00:00\u001b[0m\n",
            "\u001b[?25hInstalling collected packages: jedi\n",
            "Successfully installed jedi-0.19.2\n"
          ]
        }
      ]
    },
    {
      "cell_type": "code",
      "source": [
        "import cirq\n",
        "import numpy as np\n",
        "import matplotlib.pyplot as plt\n",
        "import ipywidgets as widgets\n",
        "from IPython.display import display\n",
        "\n",
        "# Define quantum node with 9 qubits (5 QEC + 3 teleportation + 1 final readout)\n",
        "qubits = cirq.LineQubit.range(9)\n",
        "\n",
        "# Apply scrambling gates with a given rate\n",
        "def apply_scrambling(circuit, qubits, rate):\n",
        "    for q in qubits:\n",
        "        circuit.append(cirq.rx(rate * np.random.uniform(0, np.pi))(q))\n",
        "        circuit.append(cirq.ry(rate * np.random.uniform(0, np.pi))(q))\n",
        "    for i in range(len(qubits) - 1):\n",
        "        circuit.append(cirq.CNOT(qubits[i], qubits[i + 1]))\n",
        "\n",
        "# Apply 5-qubit code style QEC encoding (mock version)\n",
        "def apply_5_qubit_qec(circuit, data_qubit, qec_qubits):\n",
        "    for q in qec_qubits:\n",
        "        circuit.append(cirq.CNOT(data_qubit, q))\n",
        "\n",
        "# Create teleportation circuit with correction keys\n",
        "def teleport(circuit, source, epr0, epr1):\n",
        "    circuit.append([cirq.H(epr0), cirq.CNOT(epr0, epr1)])\n",
        "    circuit.append([cirq.CNOT(source, epr0), cirq.H(source)])\n",
        "    circuit.append([cirq.measure(source, key='m_source'),\n",
        "                    cirq.measure(epr0, key='m_epr0')])\n",
        "    return [(epr1, 'X', 'm_epr0'), (epr1, 'Z', 'm_source')]\n",
        "\n",
        "# Full quantum cluster simulation\n",
        "def run_cluster_simulation(rate):\n",
        "    circuit = cirq.Circuit()\n",
        "    data_q = qubits[0]\n",
        "    qec_qubits = qubits[1:6]\n",
        "    epr_qubits = qubits[6:9]\n",
        "\n",
        "    # Initialize input state as |1⟩\n",
        "    circuit.append(cirq.X(data_q))\n",
        "\n",
        "    # Scramble the QEC + data qubits (bulk dynamics)\n",
        "    apply_scrambling(circuit, qubits[:6], rate)\n",
        "\n",
        "    # Encode using mock 5-qubit QEC\n",
        "    apply_5_qubit_qec(circuit, data_q, qec_qubits)\n",
        "\n",
        "    # Teleport the last QEC qubit to the EPR pair\n",
        "    teleport(circuit, qec_qubits[-1], epr_qubits[0], epr_qubits[1])\n",
        "\n",
        "    # Final readout from third EPR qubit\n",
        "    circuit.append(cirq.measure(epr_qubits[2], key='q_final'))\n",
        "\n",
        "    simulator = cirq.Simulator()\n",
        "    result = simulator.run(circuit, repetitions=100)\n",
        "\n",
        "    # Classical correction logic (post-processing)\n",
        "    corrected = []\n",
        "    for i in range(100):\n",
        "        m_s = result.measurements['m_source'][i][0]\n",
        "        m_e = result.measurements['m_epr0'][i][0]\n",
        "        final = result.measurements['q_final'][i][0]\n",
        "        if m_e == 1:\n",
        "            final ^= 1\n",
        "        if m_s == 1:\n",
        "            final ^= 1\n",
        "        corrected.append(final)\n",
        "\n",
        "    return circuit, result, corrected\n",
        "\n",
        "# Visualization of results and fidelity calculation\n",
        "def visualize_results(corrected):\n",
        "    counts = [corrected.count(0), corrected.count(1)]\n",
        "    fidelity = counts[1] / sum(counts)  # Since we expect |1⟩ after teleportation\n",
        "\n",
        "    plt.figure(figsize=(6, 4))\n",
        "    plt.bar(['|0⟩', '|1⟩'], counts, color=['skyblue', 'salmon'])\n",
        "    plt.title(f\"Final Qubit State After Correction (Fidelity ≈ {fidelity:.2f})\")\n",
        "    plt.ylabel(\"Frequency\")\n",
        "    plt.grid(True)\n",
        "    plt.show()\n",
        "\n",
        "# Widget for real-time simulation\n",
        "def interactive_sim(rate=1.0):\n",
        "    circuit, result, corrected = run_cluster_simulation(rate)\n",
        "    print(\"Quantum Circuit:\\n\")\n",
        "    print(circuit)\n",
        "    print(\"\\nMeasurement Sample:\\n\")\n",
        "    print(result)\n",
        "    visualize_results(corrected)\n",
        "\n",
        "# Real-time slider\n",
        "rate_slider = widgets.FloatSlider(value=1.0, min=0.1, max=2.0, step=0.1, description='Scrambling Rate')\n",
        "interactive_plot = widgets.interactive_output(interactive_sim, {'rate': rate_slider})\n",
        "\n",
        "# Display in notebook\n",
        "display(rate_slider, interactive_plot)\n"
      ],
      "metadata": {
        "colab": {
          "base_uri": "https://localhost:8080/",
          "height": 871,
          "referenced_widgets": [
            "eed55e50e0ba4fe5a8f04f761b218469",
            "f651a117af224232bdd4ba3e6803baa9",
            "51ccc589ad7941599d3b9cbcdcd9ae96",
            "3e04df36ed7747f8857d91bab0cb490e",
            "4b47a31c029d4f4abf75a79367c5338a"
          ]
        },
        "id": "NxbLMLpR8rtk",
        "outputId": "0d6d5db2-3c8f-400d-974b-0457e86ed553"
      },
      "execution_count": 1,
      "outputs": [
        {
          "output_type": "display_data",
          "data": {
            "text/plain": [
              "FloatSlider(value=1.0, description='Scrambling Rate', max=2.0, min=0.1)"
            ],
            "application/vnd.jupyter.widget-view+json": {
              "version_major": 2,
              "version_minor": 0,
              "model_id": "eed55e50e0ba4fe5a8f04f761b218469"
            }
          },
          "metadata": {}
        },
        {
          "output_type": "display_data",
          "data": {
            "text/plain": [
              "Output()"
            ],
            "application/vnd.jupyter.widget-view+json": {
              "version_major": 2,
              "version_minor": 0,
              "model_id": "3e04df36ed7747f8857d91bab0cb490e"
            }
          },
          "metadata": {}
        }
      ]
    },
    {
      "cell_type": "code",
      "source": [
        "import pandas as pd\n",
        "\n",
        "def export_results(corrected):\n",
        "    df = pd.DataFrame({'Corrected_Qubit_State': corrected})\n",
        "    df.to_csv('teleported_results.csv', index=False)\n",
        "    print(\"✅ Exported to 'teleported_results.csv'\")\n",
        "\n",
        "# Call this after simulation\n",
        "    #export_results(corrected)\n"
      ],
      "metadata": {
        "id": "-93gMhod87sZ"
      },
      "execution_count": 7,
      "outputs": []
    },
    {
      "cell_type": "code",
      "source": [
        "circuit, result, corrected = run_cluster_simulation(1.0)  # or any rate value\n",
        "export_results(corrected)\n"
      ],
      "metadata": {
        "colab": {
          "base_uri": "https://localhost:8080/"
        },
        "id": "M8UVk24X-Bks",
        "outputId": "e6124204-67f4-4bb3-a2bb-d84b0b9a9cd2"
      },
      "execution_count": 8,
      "outputs": [
        {
          "output_type": "stream",
          "name": "stdout",
          "text": [
            "✅ Exported to 'teleported_results.csv'\n"
          ]
        }
      ]
    },
    {
      "cell_type": "code",
      "source": [
        "from google.colab import files\n",
        "files.download('teleported_results.csv')"
      ],
      "metadata": {
        "colab": {
          "base_uri": "https://localhost:8080/",
          "height": 17
        },
        "id": "ofio55W39Zzq",
        "outputId": "7cd407c1-f08b-4194-b552-e8a74ecd3450"
      },
      "execution_count": 9,
      "outputs": [
        {
          "output_type": "display_data",
          "data": {
            "text/plain": [
              "<IPython.core.display.Javascript object>"
            ],
            "application/javascript": [
              "\n",
              "    async function download(id, filename, size) {\n",
              "      if (!google.colab.kernel.accessAllowed) {\n",
              "        return;\n",
              "      }\n",
              "      const div = document.createElement('div');\n",
              "      const label = document.createElement('label');\n",
              "      label.textContent = `Downloading \"${filename}\": `;\n",
              "      div.appendChild(label);\n",
              "      const progress = document.createElement('progress');\n",
              "      progress.max = size;\n",
              "      div.appendChild(progress);\n",
              "      document.body.appendChild(div);\n",
              "\n",
              "      const buffers = [];\n",
              "      let downloaded = 0;\n",
              "\n",
              "      const channel = await google.colab.kernel.comms.open(id);\n",
              "      // Send a message to notify the kernel that we're ready.\n",
              "      channel.send({})\n",
              "\n",
              "      for await (const message of channel.messages) {\n",
              "        // Send a message to notify the kernel that we're ready.\n",
              "        channel.send({})\n",
              "        if (message.buffers) {\n",
              "          for (const buffer of message.buffers) {\n",
              "            buffers.push(buffer);\n",
              "            downloaded += buffer.byteLength;\n",
              "            progress.value = downloaded;\n",
              "          }\n",
              "        }\n",
              "      }\n",
              "      const blob = new Blob(buffers, {type: 'application/binary'});\n",
              "      const a = document.createElement('a');\n",
              "      a.href = window.URL.createObjectURL(blob);\n",
              "      a.download = filename;\n",
              "      div.appendChild(a);\n",
              "      a.click();\n",
              "      div.remove();\n",
              "    }\n",
              "  "
            ]
          },
          "metadata": {}
        },
        {
          "output_type": "display_data",
          "data": {
            "text/plain": [
              "<IPython.core.display.Javascript object>"
            ],
            "application/javascript": [
              "download(\"download_58796177-fe84-4932-b660-fc51ccd42871\", \"teleported_results.csv\", 222)"
            ]
          },
          "metadata": {}
        }
      ]
    },
    {
      "cell_type": "code",
      "source": [
        "def analyze_corrected_states(filename='teleported_results.csv'):\n",
        "    import pandas as pd\n",
        "    df = pd.read_csv(filename)\n",
        "    total = len(df)\n",
        "    ones = df['Corrected_Qubit_State'].sum()\n",
        "    fidelity = ones / total\n",
        "    print(f\"📈 Teleportation Fidelity: {fidelity:.2f} ({ones}/{total})\")\n",
        "\n",
        "    # Optional: Histogram\n",
        "    import matplotlib.pyplot as plt\n",
        "    df['Corrected_Qubit_State'].value_counts().sort_index().plot(kind='bar', color=['skyblue', 'salmon'])\n",
        "    plt.xticks([0, 1], ['|0⟩', '|1⟩'], rotation=0)\n",
        "    plt.title(\"Final Qubit State Distribution\")\n",
        "    plt.ylabel(\"Count\")\n",
        "    plt.grid(True)\n",
        "    plt.show()\n"
      ],
      "metadata": {
        "id": "ttDyCUuV-yyR"
      },
      "execution_count": 10,
      "outputs": []
    },
    {
      "cell_type": "code",
      "source": [
        "analyze_corrected_states('teleported_results.csv')"
      ],
      "metadata": {
        "colab": {
          "base_uri": "https://localhost:8080/",
          "height": 490
        },
        "id": "gHSLvaNU-5BD",
        "outputId": "51d0d866-396f-410e-8628-7c37d5028016"
      },
      "execution_count": 11,
      "outputs": [
        {
          "output_type": "stream",
          "name": "stdout",
          "text": [
            "📈 Teleportation Fidelity: 0.50 (50/100)\n"
          ]
        },
        {
          "output_type": "display_data",
          "data": {
            "text/plain": [
              "<Figure size 640x480 with 1 Axes>"
            ],
            "image/png": "[encoded data removed]"
          },
          "metadata": {}
        }
      ]
    },
    {
      "cell_type": "code",
      "source": [
        "circuit, result, corrected = run_cluster_simulation(rate=0.3)\n",
        "export_results(corrected)\n"
      ],
      "metadata": {
        "colab": {
          "base_uri": "https://localhost:8080/"
        },
        "id": "Ifq0O3wL_VTe",
        "outputId": "23f33951-a8fa-4395-8f26-74f3e6009c29"
      },
      "execution_count": 12,
      "outputs": [
        {
          "output_type": "stream",
          "name": "stdout",
          "text": [
            "✅ Exported to 'teleported_results.csv'\n"
          ]
        }
      ]
    },
    {
      "cell_type": "code",
      "source": [
        "def run_cluster_simulation(rate, init_state='1'):\n",
        "    circuit = cirq.Circuit()\n",
        "    data_q = qubits[0]\n",
        "    qec_qubits = qubits[1:6]\n",
        "    epr_qubits = qubits[6:9]\n",
        "\n",
        "    # Initialize input state\n",
        "    if init_state == '1':\n",
        "        circuit.append(cirq.X(data_q))         # |1⟩\n",
        "    elif init_state == '+':\n",
        "        circuit.append(cirq.H(data_q))         # |+⟩ = (|0⟩ + |1⟩)/√2\n",
        "    elif init_state == '-':\n",
        "        circuit.append([cirq.X(data_q), cirq.H(data_q)])  # |−⟩ = (|0⟩ − |1⟩)/√2\n",
        "    else:\n",
        "        circuit.append(cirq.I(data_q))         # default to |0⟩\n",
        "\n",
        "    # Scramble\n",
        "    apply_scrambling(circuit, qubits[:6], rate)\n",
        "\n",
        "    # QEC encode\n",
        "    apply_5_qubit_qec(circuit, data_q, qec_qubits)\n",
        "\n",
        "    # Teleport\n",
        "    teleport(circuit, qec_qubits[-1], epr_qubits[0], epr_qubits[1])\n",
        "\n",
        "    # Final readout\n",
        "    circuit.append(cirq.measure(epr_qubits[2], key='q_final'))\n",
        "\n",
        "    simulator = cirq.Simulator()\n",
        "    result = simulator.run(circuit, repetitions=100)\n",
        "\n",
        "    # Classical correction\n",
        "    corrected = []\n",
        "    for i in range(100):\n",
        "        m_s = result.measurements['m_source'][i][0]\n",
        "        m_e = result.measurements['m_epr0'][i][0]\n",
        "        final = result.measurements['q_final'][i][0]\n",
        "        if m_e == 1:\n",
        "            final ^= 1\n",
        "        if m_s == 1:\n",
        "            final ^= 1\n",
        "        corrected.append(final)\n",
        "\n",
        "    return circuit, result, corrected\n",
        "\n"
      ],
      "metadata": {
        "id": "xgp6BhDx_Zwl"
      },
      "execution_count": 14,
      "outputs": []
    },
    {
      "cell_type": "code",
      "source": [
        "# Test with |+⟩ input state\n",
        "circuit, result, corrected = run_cluster_simulation(rate=0.5, init_state='+')\n",
        "export_results(corrected)\n"
      ],
      "metadata": {
        "colab": {
          "base_uri": "https://localhost:8080/"
        },
        "id": "nEVi3JBe_9dk",
        "outputId": "6154c950-026b-457c-f9e4-adb0b231a6ad"
      },
      "execution_count": 15,
      "outputs": [
        {
          "output_type": "stream",
          "name": "stdout",
          "text": [
            "✅ Exported to 'teleported_results.csv'\n"
          ]
        }
      ]
    },
    {
      "cell_type": "code",
      "source": [
        "from google.colab import files\n",
        "files.download('teleported_results.csv')"
      ],
      "metadata": {
        "colab": {
          "base_uri": "https://localhost:8080/",
          "height": 17
        },
        "id": "tsPhm7ABAC3F",
        "outputId": "43c88de4-d659-4713-ed22-e8861b7ae42f"
      },
      "execution_count": 16,
      "outputs": [
        {
          "output_type": "display_data",
          "data": {
            "text/plain": [
              "<IPython.core.display.Javascript object>"
            ],
            "application/javascript": [
              "\n",
              "    async function download(id, filename, size) {\n",
              "      if (!google.colab.kernel.accessAllowed) {\n",
              "        return;\n",
              "      }\n",
              "      const div = document.createElement('div');\n",
              "      const label = document.createElement('label');\n",
              "      label.textContent = `Downloading \"${filename}\": `;\n",
              "      div.appendChild(label);\n",
              "      const progress = document.createElement('progress');\n",
              "      progress.max = size;\n",
              "      div.appendChild(progress);\n",
              "      document.body.appendChild(div);\n",
              "\n",
              "      const buffers = [];\n",
              "      let downloaded = 0;\n",
              "\n",
              "      const channel = await google.colab.kernel.comms.open(id);\n",
              "      // Send a message to notify the kernel that we're ready.\n",
              "      channel.send({})\n",
              "\n",
              "      for await (const message of channel.messages) {\n",
              "        // Send a message to notify the kernel that we're ready.\n",
              "        channel.send({})\n",
              "        if (message.buffers) {\n",
              "          for (const buffer of message.buffers) {\n",
              "            buffers.push(buffer);\n",
              "            downloaded += buffer.byteLength;\n",
              "            progress.value = downloaded;\n",
              "          }\n",
              "        }\n",
              "      }\n",
              "      const blob = new Blob(buffers, {type: 'application/binary'});\n",
              "      const a = document.createElement('a');\n",
              "      a.href = window.URL.createObjectURL(blob);\n",
              "      a.download = filename;\n",
              "      div.appendChild(a);\n",
              "      a.click();\n",
              "      div.remove();\n",
              "    }\n",
              "  "
            ]
          },
          "metadata": {}
        },
        {
          "output_type": "display_data",
          "data": {
            "text/plain": [
              "<IPython.core.display.Javascript object>"
            ],
            "application/javascript": [
              "download(\"download_63fb285c-f6da-48ee-945e-5fcefbca950d\", \"teleported_results.csv\", 222)"
            ]
          },
          "metadata": {}
        }
      ]
    },
    {
      "cell_type": "code",
      "source": [
        "analyze_corrected_states('teleported_results.csv')"
      ],
      "metadata": {
        "colab": {
          "base_uri": "https://localhost:8080/",
          "height": 490
        },
        "id": "DwaKs2s-AKds",
        "outputId": "ad5e9206-999b-46f0-f295-f768fe86db8a"
      },
      "execution_count": 17,
      "outputs": [
        {
          "output_type": "stream",
          "name": "stdout",
          "text": [
            "📈 Teleportation Fidelity: 0.53 (53/100)\n"
          ]
        },
        {
          "output_type": "display_data",
          "data": {
            "text/plain": [
              "<Figure size 640x480 with 1 Axes>"
            ],
            "image/png": "[encoded data removed]"
          },
          "metadata": {}
        }
      ]
    },
    {
      "cell_type": "markdown",
      "source": [
        "Idea by Bhadale IT; code generated by ChatGPT"
      ],
      "metadata": {
        "id": "HbGs3gA4Ap-W"
      }
    }
  ]
}